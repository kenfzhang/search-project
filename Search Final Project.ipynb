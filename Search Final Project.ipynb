{
 "cells": [
  {
   "cell_type": "markdown",
   "metadata": {},
   "source": [
    "# Search Final Project\n",
    "#### Patrick Quyle, David Thompson, Kenneth Zhang"
   ]
  },
  {
   "cell_type": "markdown",
   "metadata": {},
   "source": [
    "## Task 1"
   ]
  },
  {
   "cell_type": "markdown",
   "metadata": {},
   "source": [
    "Recommend business to users\n",
    "\n",
    "\n",
    "• Find a group of users who rated at least k businesses (e.g., k = 20)\n",
    "\n",
    "\n",
    "• For each user, split the user rated businesses into two collections (training\n",
    "and testing)\n",
    "\n",
    "\n",
    "• For training set, you can use it for recommendation model generation,\n",
    "e.g., generating query (for each user) or use it for collaborative filtering.\n",
    "\n",
    "\n",
    "• For testing set, you will need to use it to evaluate the performance of the\n",
    "proposed algorithms.\n",
    "\n",
    "\n",
    "• You will need to report: 1. algorithm design (you need to use at least 2\n",
    "algorithms to address this problem). 2. experiment design. 3. evaluation\n",
    "result. 4. conclusion.\n",
    "\n",
    "\n",
    "• Try to use some Text Feature (keyword, review, and tip), Proximity\n",
    "Information, and/or Social Network features."
   ]
  },
  {
   "cell_type": "markdown",
   "metadata": {},
   "source": [
    "### Setup"
   ]
  },
  {
   "cell_type": "code",
   "execution_count": null,
   "metadata": {},
   "outputs": [],
   "source": [
    "# Import libraries\n",
    "import random\n",
    "import json\n",
    "import sys"
   ]
  },
  {
   "cell_type": "markdown",
   "metadata": {},
   "source": [
    "### Import data"
   ]
  },
  {
   "cell_type": "code",
   "execution_count": null,
   "metadata": {},
   "outputs": [],
   "source": [
    "f = open('./yelp/yelp_academic_dataset_business.json','r')"
   ]
  },
  {
   "cell_type": "code",
   "execution_count": null,
   "metadata": {},
   "outputs": [],
   "source": [
    "dataset = []\n",
    "for i in range(1000):\n",
    "    dataset.append(json.loads(f.readline()))"
   ]
  },
  {
   "cell_type": "markdown",
   "metadata": {},
   "source": [
    "### Filter non-restaurants from businesses"
   ]
  },
  {
   "cell_type": "code",
   "execution_count": null,
   "metadata": {},
   "outputs": [],
   "source": [
    "fr = open('./yelp/academic_dataset_restaurants.json','w',encoding='utf-8')\n",
    "f = open('./yelp/yelp_academic_dataset_business.json','r',encoding='utf-8')\n",
    "\n",
    "i = 0\n",
    "\n",
    "record = 'Z534 is cool'\n",
    "\n",
    "while record:\n",
    "    record = f.readline()\n",
    "    if i % 20000 == 0:\n",
    "        print(str(i)+\" done\")\n",
    "#     print(record)\n",
    "    if not record:\n",
    "        break\n",
    "    record_object = json.loads(record)\n",
    "#     print(record_object)\n",
    "    if not record_object['categories']:\n",
    "        continue\n",
    "    if 'Restaurants' in record_object['categories']:\n",
    "        fr.write(record)\n",
    "    \n",
    "    i += 1\n",
    "fr.close()\n"
   ]
  },
  {
   "cell_type": "markdown",
   "metadata": {},
   "source": [
    "### Filter non-restaurants from reviews"
   ]
  },
  {
   "cell_type": "code",
   "execution_count": null,
   "metadata": {},
   "outputs": [],
   "source": [
    "# Make dictionary of restaurants\n",
    "\n",
    "restaurants = {}\n",
    "f = open('./yelp/academic_dataset_restaurants.json','r',encoding='utf-8')\n",
    "\n",
    "record = 'Z534 is cool'\n",
    "\n",
    "record = f.readline()\n",
    "while record:\n",
    "    record_object = json.loads(record)\n",
    "    restaurants[record_object['business_id']] = None\n",
    "    record = f.readline()\n",
    "    \n",
    "    \n",
    "\n",
    "\n"
   ]
  },
  {
   "cell_type": "code",
   "execution_count": null,
   "metadata": {
    "scrolled": false
   },
   "outputs": [],
   "source": [
    "# Filter out non-restaurant reviews\n",
    "    \n",
    "fb = open('./yelp/academic_dataset_restaurant_reviews.json','w',encoding='utf-8')\n",
    "f = open('./yelp/yelp_academic_dataset_review.json','r',encoding='utf-8')\n",
    "\n",
    "i = 0\n",
    "\n",
    "record = 'Z534 is cool'\n",
    "\n",
    "while record:\n",
    "    record = f.readline()\n",
    "    if i % 20000 == 0:\n",
    "        print(str(i)+\" done\")\n",
    "#     print(record)\n",
    "    if not record:\n",
    "        break\n",
    "    record_object = json.loads(record)\n",
    "#     print(record_object)\n",
    "    if record_object['business_id'] in restaurants:\n",
    "        fb.write(record)\n",
    "    i += 1\n",
    "fb.close()"
   ]
  },
  {
   "cell_type": "markdown",
   "metadata": {},
   "source": [
    "## Find group of users who rated at least k businesses, k = 10"
   ]
  },
  {
   "cell_type": "markdown",
   "metadata": {},
   "source": [
    "### Find users for training/test data"
   ]
  },
  {
   "cell_type": "code",
   "execution_count": null,
   "metadata": {},
   "outputs": [],
   "source": [
    "# Find group of users who rated at least k businesses\n",
    "\n",
    "f = open('./yelp/yelp_academic_dataset_user.json','r',encoding='utf-8')\n",
    "\n",
    "# Minimum number of reviews\n",
    "k = 30\n",
    "\n",
    "# Number of users to find\n",
    "n = 100000\n",
    "\n",
    "users = 0\n",
    "\n",
    "user_ids = {}\n",
    "\n",
    "text = 'Z534 is awesome'\n",
    "while users < n and text:\n",
    "    text = f.readline()\n",
    "    if not text:\n",
    "        break\n",
    "    u = json.loads(text)\n",
    "    if u[\"review_count\"] >= k:\n",
    "        user_ids[u[\"user_id\"]] = []\n",
    "#         user_ids.append(u[\"user_id\"])\n",
    "        users += 1\n",
    "        \n",
    "\n"
   ]
  },
  {
   "cell_type": "code",
   "execution_count": null,
   "metadata": {},
   "outputs": [],
   "source": [
    "# Find reviews made by these users\n",
    "\n",
    "f = open('./yelp/academic_dataset_restaurant_reviews.json','r',encoding='utf-8')\n",
    "\n",
    "# Number of reviews to look through\n",
    "r = 3000000\n",
    "\n",
    "i = 0\n",
    "\n",
    "# user_list = []\n",
    "\n",
    "while i < r:\n",
    "    \n",
    "    review = json.loads(f.readline())\n",
    "    if review[\"user_id\"] in user_ids:\n",
    "        user_ids[review[\"user_id\"]].append((review[\"business_id\"],review[\"stars\"]))\n",
    "    i += 1"
   ]
  },
  {
   "cell_type": "markdown",
   "metadata": {},
   "source": [
    "#### Filter out users who have fewer than 10 reviews"
   ]
  },
  {
   "cell_type": "code",
   "execution_count": null,
   "metadata": {},
   "outputs": [],
   "source": [
    "user_ids = {key: value for (key,value) in user_ids.items() if len(value) > 9}"
   ]
  },
  {
   "cell_type": "markdown",
   "metadata": {},
   "source": [
    "#### Process by users\n",
    "Convert user dictionary into matrix"
   ]
  },
  {
   "cell_type": "code",
   "execution_count": null,
   "metadata": {},
   "outputs": [],
   "source": [
    "user_list = list(user_ids.items())"
   ]
  },
  {
   "cell_type": "code",
   "execution_count": null,
   "metadata": {},
   "outputs": [],
   "source": [
    "len(user_list)"
   ]
  },
  {
   "cell_type": "markdown",
   "metadata": {},
   "source": [
    "#### Create test and training split"
   ]
  },
  {
   "cell_type": "code",
   "execution_count": null,
   "metadata": {},
   "outputs": [],
   "source": [
    "random.shuffle(user_list)"
   ]
  },
  {
   "cell_type": "code",
   "execution_count": null,
   "metadata": {},
   "outputs": [],
   "source": [
    "split = int(len(user_list) * 0.8)\n",
    "train_users = user_list[:split]\n",
    "test_users = user_list[split:]"
   ]
  },
  {
   "cell_type": "markdown",
   "metadata": {},
   "source": [
    "#### Extract attributes from restaurants\n",
    "    'RestaurantsAttire',\n",
    "    'RestaurantsPriceRange2',\n",
    "    'NoiseLevel',\n",
    "    'Alcohol',\n",
    "    'RestaurantsGoodForGroups',\n",
    "    'RestaurantsDelivery',\n",
    "    'RestaurantsTakeOut',\n",
    "    'GoodForKids'"
   ]
  },
  {
   "cell_type": "code",
   "execution_count": null,
   "metadata": {},
   "outputs": [],
   "source": [
    "f = open('./yelp/academic_dataset_restaurants.json','r',encoding='utf-8')\n",
    "\n",
    "rest = f.readline()\n",
    "restaurants = {}\n",
    "\n",
    "\n",
    "attributes = [\n",
    "    'RestaurantsAttire',\n",
    "    'RestaurantsPriceRange2',\n",
    "    'NoiseLevel',\n",
    "    'Alcohol',\n",
    "    'RestaurantsGoodForGroups',\n",
    "    'RestaurantsDelivery',\n",
    "    'RestaurantsTakeOut',\n",
    "    'GoodForKids'\n",
    "]\n",
    "\n",
    "\n",
    "default_value = {\n",
    "    'RestaurantsAttire':\"casual\",\n",
    "    'RestaurantsPriceRange2':'1',\n",
    "    'NoiseLevel':\"quiet\",\n",
    "    'Alcohol':\"none\",\n",
    "    'RestaurantsGoodForGroups':'False',\n",
    "    'RestaurantsDelivery':'False',\n",
    "    'RestaurantsTakeOut':'False',\n",
    "    'GoodForKids':'False'\n",
    "}\n",
    "\n",
    "\n",
    "numerical_value = {\n",
    "    \"\": 0.0,\n",
    "    \"casual\":0.0,\n",
    "    \"dressy\":0.5,\n",
    "    \"formal\":1.0,\n",
    "    \"quiet\": 0.0,\n",
    "    \"average\": 0.333,\n",
    "    \"loud\": 0.666,\n",
    "    \"very_loud\": 1.0,\n",
    "    'none': 0.0,\n",
    "    'beer_and_wine': 0.5,\n",
    "    'full_bar': 1.0,\n",
    "    'False': 0.0,\n",
    "    'True': 1.0,\n",
    "    '1': 0.0,\n",
    "    '2': 0.333,\n",
    "    '3': 0.666,\n",
    "    '4': 1.0\n",
    "}\n",
    "\n",
    "while rest:\n",
    "    rest_object = json.loads(rest)\n",
    "    rest_id = rest_object['business_id']\n",
    "    rest_attr = rest_object['attributes']\n",
    "    \n",
    "    if rest_attr:\n",
    "        rest_vector = []\n",
    "        rest_vector.append(rest_id)\n",
    "        for i in attributes:\n",
    "            if i in rest_attr:\n",
    "                if rest_attr[i] != \"None\":\n",
    "                    a = rest_attr[i]\n",
    "                    if i in ['RestaurantsAttire','NoiseLevel','Alcohol']:\n",
    "                        if a[0] == \"u\":\n",
    "                            a = a[1:]\n",
    "                        a = a[1:-1]\n",
    "                    rest_vector.append(numerical_value[a])\n",
    "                else:\n",
    "                    rest_vector.append(numerical_value[default_value[i]])\n",
    "            else:\n",
    "                rest_vector.append(numerical_value[default_value[i]])\n",
    "        restaurants[rest_id] = rest_vector\n",
    "    rest = f.readline()\n",
    "    \n",
    "    \n",
    "    \n"
   ]
  },
  {
   "cell_type": "markdown",
   "metadata": {},
   "source": [
    "### Preview of vector representation of restaurant attributes"
   ]
  },
  {
   "cell_type": "code",
   "execution_count": null,
   "metadata": {},
   "outputs": [],
   "source": [
    "for i in list(restaurants.items())[:20]:\n",
    "    print(i[1])"
   ]
  },
  {
   "cell_type": "markdown",
   "metadata": {},
   "source": [
    "### Algorithms: collaborative filtering and k-nearest neighbors"
   ]
  },
  {
   "cell_type": "markdown",
   "metadata": {},
   "source": [
    "For each user, use their rating as a weight for how much a restaurant influences their preferences"
   ]
  },
  {
   "cell_type": "code",
   "execution_count": null,
   "metadata": {},
   "outputs": [],
   "source": [
    "# For each user, use their rating as a weight for how much a restaurant influences their preferences\n",
    "user_preferences = {}\n",
    "for i in range(len(user_list)):\n",
    "    total_rating = 0\n",
    "    for j in range(len(user_list[i][1])):\n",
    "        total_rating += user_list[i][1][j][1]\n",
    "    for j in range(len(user_list[i][1])):\n",
    "        user_list[i][1][j] = (user_list[i][1][j][0],user_list[i][1][j][1]/total_rating)"
   ]
  },
  {
   "cell_type": "code",
   "execution_count": null,
   "metadata": {},
   "outputs": [],
   "source": [
    "for i in user_list:\n",
    "    vec = [0,0,0,0,0,0,0,0]\n",
    "    # For each review of this user\n",
    "    for j in i[1]:\n",
    "        for k in range(len(vec)):\n",
    "            if j[0] in restaurants:\n",
    "                vec[k] += restaurants[j[0]][k+1]\n",
    "        for k in range(len(vec)):\n",
    "            vec[k] *= j[1]\n",
    "    \n",
    "    \n",
    "    user_preferences[i[0]] = vec"
   ]
  },
  {
   "cell_type": "markdown",
   "metadata": {},
   "source": [
    "### Preview of vector representation of user preferences"
   ]
  },
  {
   "cell_type": "code",
   "execution_count": null,
   "metadata": {
    "scrolled": false
   },
   "outputs": [],
   "source": [
    "for i in [(j[0],[round(k,4) for k in j[1]]) for j in list(user_preferences.items())[:10]]:\n",
    "    print(i[0],i[1])"
   ]
  },
  {
   "cell_type": "markdown",
   "metadata": {},
   "source": [
    "### Use Euclidean distance to determine \"distance\" between restaurant features"
   ]
  },
  {
   "cell_type": "code",
   "execution_count": null,
   "metadata": {},
   "outputs": [],
   "source": [
    "def euc_dist(vec1, vec2):\n",
    "    vsum = 0\n",
    "    for i in range(len(vec1)):\n",
    "        vsum += (vec1[i] - vec2[i])**2\n",
    "    return vsum**(0.5)"
   ]
  },
  {
   "cell_type": "markdown",
   "metadata": {},
   "source": [
    "## Task 2"
   ]
  },
  {
   "cell_type": "markdown",
   "metadata": {},
   "source": [
    "### Find restaurants that are open during your time"
   ]
  },
  {
   "cell_type": "code",
   "execution_count": null,
   "metadata": {},
   "outputs": [],
   "source": [
    "\"stuff\".replace('u','a')"
   ]
  },
  {
   "cell_type": "code",
   "execution_count": null,
   "metadata": {},
   "outputs": [],
   "source": [
    "def parse_time(time_str):\n",
    "    return [float(i) for i in time_str.replace(':','.').split('-')]"
   ]
  },
  {
   "cell_type": "code",
   "execution_count": null,
   "metadata": {},
   "outputs": [],
   "source": [
    "# Make dictionary of restaurants\n",
    "\n",
    "restaurants = {}\n",
    "f = open('./yelp/academic_dataset_restaurants.json','r',encoding='utf-8')\n",
    "\n",
    "record = 'Z534 is cool'\n",
    "\n",
    "record = f.readline()\n",
    "while record:\n",
    "    record_object = json.loads(record)\n",
    "    if record_object['hours']:\n",
    "        restaurants[record_object['business_id']] = [(i[0],parse_time(i[1])) for i in list(record_object['hours'].items())]\n",
    "    record = f.readline()"
   ]
  },
  {
   "cell_type": "code",
   "execution_count": null,
   "metadata": {
    "scrolled": false
   },
   "outputs": [],
   "source": [
    "restaurants"
   ]
  }
 ],
 "metadata": {
  "kernelspec": {
   "display_name": "Python 3",
   "language": "python",
   "name": "python3"
  },
  "language_info": {
   "codemirror_mode": {
    "name": "ipython",
    "version": 3
   },
   "file_extension": ".py",
   "mimetype": "text/x-python",
   "name": "python",
   "nbconvert_exporter": "python",
   "pygments_lexer": "ipython3",
   "version": "3.8.3"
  }
 },
 "nbformat": 4,
 "nbformat_minor": 4
}
